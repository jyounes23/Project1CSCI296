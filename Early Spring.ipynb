{
  "cells": [
    {
      "cell_type": "markdown",
      "metadata": {
        "colab_type": "text",
        "id": "zqJqmZ_GHf63"
      },
      "source": [
        "# Will it be an early Spring?\n",
        "\n",
        "On February 2<sup>nd</sup> every year Punxsutawney Phil makes a prediction about if there will be an early Spring or if Winter will continue for 6 more weeks (till about mid-March). He is however not very accurate (well, according to [The Inner Circle](https://www.groundhog.org/inner-circle) he is 100% correct but the human handler may not interpret his response correctly). The overall goal is to be able to predict if it will be an early Spring.\n",
        "\n",
        "For this project you must go through most steps in the checklist. You must write responses for all items however sometimes the item will simply be \"does not apply\". Some of the parts are a bit more nebulous and you simply show that you have done things in general (and the order doesn't really matter). Keep your progress and thoughts organized in this document and use formatting as appropriate (using markdown to add headers and sub-headers for each major part). Do not do the final part (launching the product) and your presentation will be done as information written in this document in a dedicated section, no slides or anything like that. It should however include the best summary plots/graphics/data points.\n",
        "\n",
        "You are intentionally given very little information thus far. You must communicate with your client (me) for additional information as necessary. But also make sure that your communications are efficient, thought out, and not redundant as your client might get frustrated and \"fire\" you (this only applies to getting information from your client, this does not necessary apply to asking for help with the actual project itself - you should continuously ask questions for getting help).\n",
        "\n",
        "You must submit all data files and a pickled final model along with this notebook.\n",
        "\n",
        "The group with the best results on the 10% of the data that I kept for myself will earn +5 extra credit (if multiple groups are close points may be given to multiple groups)."
      ]
    },
    {
      "cell_type": "markdown",
      "metadata": {
        "colab": {},
        "colab_type": "code",
        "id": "KXHscaEWHU3A"
      },
      "source": [
        "### Questions For Client \n",
        "- Can you provide more context on how these predictions were made? For example, are these predictions based solely on Punxsutawney Phil, or do they also consider meteorological data?\n",
        "\n",
        "- How accurate are these predictions historically when compared to actual meteorological outcomes?\n",
        "\n",
        "- Are there additional datasets you would recommend or provide that could help enhance our analysis, such as meteorological data for each of these years?\n",
        "\n",
        "- Are there any benchmarks or previous studies on this topic that we should compare our results against?\n",
        "\n",
        "\n",
        "### Questions For Professor \n",
        "\n",
        "- What specific performance metrics are most important for evaluating our predictive model in this case?\n",
        "\n",
        "- Beyond the model and the documentation, are there specific forms of visualizations or types of analysis you expect in our final report?\n",
        "\n",
        "- Would you recommend any specific statistical tests or analytical methods to understand the impact of various factors on Phil's predictions?\n",
        "\n"
      ]
    },
    {
      "cell_type": "markdown",
      "metadata": {},
      "source": [
        "### Frame the Problem and Look at the Big Picture\n",
        "\n",
        "- Define the objective in business terms.\n",
        "\n",
        "\n",
        "- How will your solution be used?\n",
        "\n",
        "- What are the current solutions/workarounds (if any)?\n",
        "\n",
        "- How should you frame this problem (supervised/unsupervised, online/offline, ...)?\n",
        "\n",
        "\n",
        "- How should performance be measured? Is the performance measure aligned with the business objectives?\n",
        "\n",
        "- What would be the minimum performance needed to reach the business objective?\n",
        "\n",
        "- What are comparable problems? Can you reuse experience or tools?\n",
        "\n",
        "- Is human expertise available?\n",
        "\n",
        "- How would you solve the problem manually?\n",
        "\n",
        "- List the assumptions you (or others) have made so far. Verify assumptions if possible."
      ]
    },
    {
      "cell_type": "markdown",
      "metadata": {},
      "source": [
        "### Get the Data\n",
        "\n",
        "- List the data you need and how much you need\n",
        "\n",
        "- Find and document where you can get that data\n",
        "\n",
        "- Get access authorizations\n",
        "Create a workspace (with enough storage space)\n",
        "Get the data\n",
        "Convert the data to a format you can easily manipulate (without changing the data itself)\n",
        "Ensure sensitive information is deleted or protected (e.g. anonymized)\n",
        "Check the size and type of data (time series, geographical, ...)\n",
        "Sample a test set, put it aside, and never look at it (no data snooping!)\n",
        "\n",
        "\n",
        "\n",
        "\n",
        "\n"
      ]
    },
    {
      "cell_type": "markdown",
      "metadata": {},
      "source": [
        "### Explore the Data\n",
        "\n",
        "- Copy the data "
      ]
    }
  ],
  "metadata": {
    "colab": {
      "name": "PROJ2 - Early Spring",
      "provenance": [],
      "version": "0.3.2"
    },
    "kernelspec": {
      "display_name": "Python 3",
      "name": "python3"
    }
  },
  "nbformat": 4,
  "nbformat_minor": 0
}
